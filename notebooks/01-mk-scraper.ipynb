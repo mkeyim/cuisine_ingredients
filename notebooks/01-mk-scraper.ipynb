{
 "cells": [
  {
   "cell_type": "code",
   "execution_count": 1,
   "metadata": {},
   "outputs": [],
   "source": [
    "import requests\n",
    "from bs4 import BeautifulSoup\n",
    "import pandas as pd"
   ]
  },
  {
   "cell_type": "code",
   "execution_count": 171,
   "metadata": {},
   "outputs": [],
   "source": [
    "var = \"/food/cuisines\"\n",
    "URL = \"https://www.bbc.com\"\n",
    "\n",
    "df = pd.DataFrame()\n",
    "\n",
    "train = pd.read_json('train.json')\n",
    "test = pd.read_json('test.json')"
   ]
  },
  {
   "cell_type": "code",
   "execution_count": 172,
   "metadata": {},
   "outputs": [
    {
     "data": {
      "text/html": [
       "<div>\n",
       "<style scoped>\n",
       "    .dataframe tbody tr th:only-of-type {\n",
       "        vertical-align: middle;\n",
       "    }\n",
       "\n",
       "    .dataframe tbody tr th {\n",
       "        vertical-align: top;\n",
       "    }\n",
       "\n",
       "    .dataframe thead th {\n",
       "        text-align: right;\n",
       "    }\n",
       "</style>\n",
       "<table border=\"1\" class=\"dataframe\">\n",
       "  <thead>\n",
       "    <tr style=\"text-align: right;\">\n",
       "      <th></th>\n",
       "      <th>cuisine</th>\n",
       "      <th>id</th>\n",
       "      <th>ingredients</th>\n",
       "    </tr>\n",
       "  </thead>\n",
       "  <tbody>\n",
       "    <tr>\n",
       "      <th>0</th>\n",
       "      <td>greek</td>\n",
       "      <td>10259</td>\n",
       "      <td>[romaine lettuce, black olives, grape tomatoes...</td>\n",
       "    </tr>\n",
       "    <tr>\n",
       "      <th>1</th>\n",
       "      <td>southern_us</td>\n",
       "      <td>25693</td>\n",
       "      <td>[plain flour, ground pepper, salt, tomatoes, g...</td>\n",
       "    </tr>\n",
       "    <tr>\n",
       "      <th>2</th>\n",
       "      <td>filipino</td>\n",
       "      <td>20130</td>\n",
       "      <td>[eggs, pepper, salt, mayonaise, cooking oil, g...</td>\n",
       "    </tr>\n",
       "    <tr>\n",
       "      <th>3</th>\n",
       "      <td>indian</td>\n",
       "      <td>22213</td>\n",
       "      <td>[water, vegetable oil, wheat, salt]</td>\n",
       "    </tr>\n",
       "    <tr>\n",
       "      <th>4</th>\n",
       "      <td>indian</td>\n",
       "      <td>13162</td>\n",
       "      <td>[black pepper, shallots, cornflour, cayenne pe...</td>\n",
       "    </tr>\n",
       "  </tbody>\n",
       "</table>\n",
       "</div>"
      ],
      "text/plain": [
       "       cuisine     id                                        ingredients\n",
       "0        greek  10259  [romaine lettuce, black olives, grape tomatoes...\n",
       "1  southern_us  25693  [plain flour, ground pepper, salt, tomatoes, g...\n",
       "2     filipino  20130  [eggs, pepper, salt, mayonaise, cooking oil, g...\n",
       "3       indian  22213                [water, vegetable oil, wheat, salt]\n",
       "4       indian  13162  [black pepper, shallots, cornflour, cayenne pe..."
      ]
     },
     "execution_count": 172,
     "metadata": {},
     "output_type": "execute_result"
    }
   ],
   "source": [
    "train.head()"
   ]
  },
  {
   "cell_type": "code",
   "execution_count": 173,
   "metadata": {
    "scrolled": true
   },
   "outputs": [
    {
     "data": {
      "text/plain": [
       "['greek',\n",
       " 'southern_us',\n",
       " 'filipino',\n",
       " 'indian',\n",
       " 'jamaican',\n",
       " 'spanish',\n",
       " 'italian',\n",
       " 'mexican',\n",
       " 'chinese',\n",
       " 'british',\n",
       " 'thai',\n",
       " 'vietnamese',\n",
       " 'cajun_creole',\n",
       " 'brazilian',\n",
       " 'french',\n",
       " 'japanese',\n",
       " 'irish',\n",
       " 'korean',\n",
       " 'moroccan',\n",
       " 'russian']"
      ]
     },
     "execution_count": 173,
     "metadata": {},
     "output_type": "execute_result"
    }
   ],
   "source": [
    "[i for i in train['cuisine'].unique()]"
   ]
  },
  {
   "cell_type": "code",
   "execution_count": 102,
   "metadata": {},
   "outputs": [
    {
     "data": {
      "text/plain": [
       "italian         7838\n",
       "mexican         6438\n",
       "southern_us     4320\n",
       "indian          3003\n",
       "chinese         2673\n",
       "french          2646\n",
       "cajun_creole    1546\n",
       "thai            1539\n",
       "japanese        1423\n",
       "greek           1175\n",
       "spanish          989\n",
       "korean           830\n",
       "vietnamese       825\n",
       "moroccan         821\n",
       "british          804\n",
       "filipino         755\n",
       "irish            667\n",
       "jamaican         526\n",
       "russian          489\n",
       "brazilian        467\n",
       "Name: cuisine, dtype: int64"
      ]
     },
     "execution_count": 102,
     "metadata": {},
     "output_type": "execute_result"
    }
   ],
   "source": [
    "train['cuisine'].value_counts()"
   ]
  },
  {
   "cell_type": "code",
   "execution_count": 95,
   "metadata": {},
   "outputs": [],
   "source": [
    "regions = []\n",
    "r = requests.get(URL + var)\n",
    "soup = BeautifulSoup(r.text)\n",
    "\n",
    "for i in soup.find_all('h3'):\n",
    "    regions.append(i.text.lower().replace(\" \", \"_\").replace(\"_recipes\", \"\"))"
   ]
  },
  {
   "cell_type": "code",
   "execution_count": 96,
   "metadata": {},
   "outputs": [
    {
     "data": {
      "text/plain": [
       "['thai_and_south-east_asian',\n",
       " 'african',\n",
       " 'american',\n",
       " 'british',\n",
       " 'caribbean',\n",
       " 'chinese',\n",
       " 'east_european',\n",
       " 'french',\n",
       " 'greek',\n",
       " 'indian',\n",
       " 'irish',\n",
       " 'italian',\n",
       " 'japanese',\n",
       " 'korean',\n",
       " 'mexican',\n",
       " 'nordic',\n",
       " 'north_african',\n",
       " 'pakistani',\n",
       " 'portuguese',\n",
       " 'south_american',\n",
       " 'spanish',\n",
       " 'thai_and_south-east_asian',\n",
       " 'turkish_and_middle_eastern']"
      ]
     },
     "execution_count": 96,
     "metadata": {},
     "output_type": "execute_result"
    }
   ],
   "source": [
    "regions"
   ]
  },
  {
   "cell_type": "code",
   "execution_count": 111,
   "metadata": {},
   "outputs": [],
   "source": [
    "test = requests.get(URL+\"/food/search?cuisines=african\")\n",
    "soup = BeautifulSoup(test.text)"
   ]
  },
  {
   "cell_type": "code",
   "execution_count": 112,
   "metadata": {
    "scrolled": false
   },
   "outputs": [
    {
     "data": {
      "text/plain": [
       "'23'"
      ]
     },
     "execution_count": 112,
     "metadata": {},
     "output_type": "execute_result"
    }
   ],
   "source": [
    "#finds number of recipes\n",
    "soup.find('b', {'class' : 'gel-pica-bold'}).text"
   ]
  },
  {
   "cell_type": "code",
   "execution_count": 121,
   "metadata": {},
   "outputs": [
    {
     "data": {
      "text/plain": [
       "'https://www.bbc.com/food/search?cuisines=african'"
      ]
     },
     "execution_count": 121,
     "metadata": {},
     "output_type": "execute_result"
    }
   ],
   "source": [
    "URL+\"/food/search?cuisines=african\""
   ]
  },
  {
   "cell_type": "code",
   "execution_count": 113,
   "metadata": {},
   "outputs": [],
   "source": [
    "test = soup.find_all('div', {'class' : 'gel-layout__item gel-1/2 gel-1/4@xl'})"
   ]
  },
  {
   "cell_type": "code",
   "execution_count": 128,
   "metadata": {
    "scrolled": true
   },
   "outputs": [
    {
     "name": "stdout",
     "output_type": "stream",
     "text": [
      "[<ul class=\"recipe-ingredients__list\"><li class=\"recipe-ingredients__list-item\">350g/12oz dried black-eyed beans</li><li class=\"recipe-ingredients__list-item\">900g/2lb <a class=\"recipe-ingredients__link\" href=\"/food/beef_sirloin\">sirloin</a> steak, cut into 1cm/½ in cubes</li><li class=\"recipe-ingredients__list-item\">225ml/8fl oz <a class=\"recipe-ingredients__link\" href=\"/food/vegetable_oil\">vegetable oil</a></li><li class=\"recipe-ingredients__list-item\">100ml/3½fl oz red <a class=\"recipe-ingredients__link\" href=\"/food/palm_oil\">palm oil</a> or vegetable oil</li><li class=\"recipe-ingredients__list-item\">1 large white <a class=\"recipe-ingredients__link\" href=\"/food/onion\">onion</a>, chopped</li><li class=\"recipe-ingredients__list-item\">4 <a class=\"recipe-ingredients__link\" href=\"/food/garlic\">garlic</a> cloves, finely chopped</li><li class=\"recipe-ingredients__list-item\">4cm/2in piece <a class=\"recipe-ingredients__link\" href=\"/food/ginger\">ginger</a>, grated</li><li class=\"recipe-ingredients__list-item\">1 tsp <a class=\"recipe-ingredients__link\" href=\"/food/dried_chilli\">dried chilli</a> flakes</li><li class=\"recipe-ingredients__list-item\">2 x 400g tins <a class=\"recipe-ingredients__link\" href=\"/food/chopped_tomatoes\">chopped tomatoes</a></li><li class=\"recipe-ingredients__list-item\">2 tbsp <a class=\"recipe-ingredients__link\" href=\"/food/tomato_puree\">tomato purée</a></li><li class=\"recipe-ingredients__list-item\">2 <a class=\"recipe-ingredients__link\" href=\"/food/beef_stock\">beef stock</a> cubes</li><li class=\"recipe-ingredients__list-item\">2 sprigs fresh <a class=\"recipe-ingredients__link\" href=\"/food/thyme\">thyme</a></li><li class=\"recipe-ingredients__list-item\">1 <a class=\"recipe-ingredients__link\" href=\"/food/scotch_bonnet_chillies\">Scotch bonnet chilli</a>, chopped</li><li class=\"recipe-ingredients__list-item\">3 ripe <a class=\"recipe-ingredients__link\" href=\"/food/plantain\">plantain</a>, peeled and sliced</li><li class=\"recipe-ingredients__list-item\">salt and freshly ground <a class=\"recipe-ingredients__link\" href=\"/food/black_pepper\">black pepper</a></li></ul>]\n",
      "[<ul class=\"recipe-ingredients__list\"><li class=\"recipe-ingredients__list-item\">50ml/2fl oz <a class=\"recipe-ingredients__link\" href=\"/food/olive_oil\">olive oil</a></li><li class=\"recipe-ingredients__list-item\">1 <a class=\"recipe-ingredients__link\" href=\"/food/onion\">onion</a>, chopped</li><li class=\"recipe-ingredients__list-item\">2 <a class=\"recipe-ingredients__link\" href=\"/food/garlic\">garlic</a> cloves, crushed</li><li class=\"recipe-ingredients__list-item\">500g/1lb 2oz <a class=\"recipe-ingredients__link\" href=\"/food/lamb_mince\">lamb mince</a></li><li class=\"recipe-ingredients__list-item\">1 tbsp hot <a class=\"recipe-ingredients__link\" href=\"/food/curry_powder\">curry powder</a></li><li class=\"recipe-ingredients__list-item\">1 <a class=\"recipe-ingredients__link\" href=\"/food/lemon\">lemon</a>, juice and zest only </li><li class=\"recipe-ingredients__list-item\">2 tbsp <a class=\"recipe-ingredients__link\" href=\"/food/mango_chutney\">mango chutney</a></li><li class=\"recipe-ingredients__list-item\">75g/2½oz <a class=\"recipe-ingredients__link\" href=\"/food/sultanas\">sultanas</a></li><li class=\"recipe-ingredients__list-item\">75g/2½oz toasted <a class=\"recipe-ingredients__link\" href=\"/food/almond\">almonds</a></li><li class=\"recipe-ingredients__list-item\">1 slice <a class=\"recipe-ingredients__link\" href=\"/food/white_bread\">white bread</a>, soaked in milk for 1 minute then squeezed dry</li><li class=\"recipe-ingredients__list-item\">salt and freshly ground <a class=\"recipe-ingredients__link\" href=\"/food/black_pepper\">black pepper</a></li><li class=\"recipe-ingredients__list-item\">4 bay leaves</li><li class=\"recipe-ingredients__list-item\">3 free-range <a class=\"recipe-ingredients__link\" href=\"/food/egg\">eggs</a></li><li class=\"recipe-ingredients__list-item\">150ml/5fl oz <a class=\"recipe-ingredients__link\" href=\"/food/milk\">milk</a></li></ul>, <ul class=\"recipe-ingredients__list\"><li class=\"recipe-ingredients__list-item\"><a class=\"recipe-ingredients__link\" href=\"/food/rice\">rice</a>, cooked according to packet instructions</li><li class=\"recipe-ingredients__list-item\"><a class=\"recipe-ingredients__link\" href=\"/food/chutney\">chutneys</a> of your choice </li><li class=\"recipe-ingredients__list-item\"><a class=\"recipe-ingredients__link\" href=\"/food/yoghurt\">yoghurt</a></li></ul>]\n",
      "[<ul class=\"recipe-ingredients__list\"><li class=\"recipe-ingredients__list-item\">1 tbsp <a class=\"recipe-ingredients__link\" href=\"/food/olive_oil\">olive oil</a></li><li class=\"recipe-ingredients__list-item\">1 <a class=\"recipe-ingredients__link\" href=\"/food/onion\">onion</a>, thinly sliced</li><li class=\"recipe-ingredients__list-item\">2 <a class=\"recipe-ingredients__link\" href=\"/food/garlic\">garlic</a> cloves, finely chopped</li><li class=\"recipe-ingredients__list-item\">1 green <a class=\"recipe-ingredients__link\" href=\"/food/chilli\">chilli</a>, finely chopped</li><li class=\"recipe-ingredients__list-item\">1 thumb-sized piece fresh <a class=\"recipe-ingredients__link\" href=\"/food/ginger\">ginger</a> root, peeled and finely chopped</li><li class=\"recipe-ingredients__list-item\">15 fresh <a class=\"recipe-ingredients__link\" href=\"/food/curry_leaves\">curry leaves</a></li><li class=\"recipe-ingredients__list-item\">2 tsp ground <a class=\"recipe-ingredients__link\" href=\"/food/cumin\">cumin</a></li><li class=\"recipe-ingredients__list-item\">1 tsp <a class=\"recipe-ingredients__link\" href=\"/food/fennel_seeds\">fennel seeds</a></li><li class=\"recipe-ingredients__list-item\">2 tsp ground <a class=\"recipe-ingredients__link\" href=\"/food/coriander\">coriander</a></li><li class=\"recipe-ingredients__list-item\">1 tsp ground <a class=\"recipe-ingredients__link\" href=\"/food/turmeric\">turmeric</a></li><li class=\"recipe-ingredients__list-item\">2 tsp black <a class=\"recipe-ingredients__link\" href=\"/food/mustard_seeds\">mustard seeds</a></li><li class=\"recipe-ingredients__list-item\">1 tbsp <a class=\"recipe-ingredients__link\" href=\"/food/tomato_puree\">tomato purée</a></li><li class=\"recipe-ingredients__list-item\">3 plum <a class=\"recipe-ingredients__link\" href=\"/food/tomato\">tomatoes</a>, finely chopped</li><li class=\"recipe-ingredients__list-item\">100g/3½oz <a class=\"recipe-ingredients__link\" href=\"/food/tamarind\">tamarind</a> paste</li><li class=\"recipe-ingredients__list-item\">20 raw king <a class=\"recipe-ingredients__link\" href=\"/food/prawn\">prawns</a>, peeled and deveined </li><li class=\"recipe-ingredients__list-item\">salt and freshly ground <a class=\"recipe-ingredients__link\" href=\"/food/black_pepper\">black pepper</a> </li></ul>, <ul class=\"recipe-ingredients__list\"><li class=\"recipe-ingredients__list-item\">2 small unsliced whole white <a class=\"recipe-ingredients__link\" href=\"/food/bread\">bread</a> loaves, cut in half and hollowed out</li><li class=\"recipe-ingredients__list-item\">2 tbsp toasted <a class=\"recipe-ingredients__link\" href=\"/food/coconut\">coconut</a> flakes</li><li class=\"recipe-ingredients__list-item\">2 tbsp fried <a class=\"recipe-ingredients__link\" href=\"/food/curry_leaves\">curry leaves</a></li><li class=\"recipe-ingredients__list-item\">2 tbsp fresh <a class=\"recipe-ingredients__link\" href=\"/food/coriander_cress\">coriander cress</a></li><li class=\"recipe-ingredients__list-item\">2 tbsp fresh <a class=\"recipe-ingredients__link\" href=\"/food/basil\">basil</a> cress</li></ul>]\n",
      "[<ul class=\"recipe-ingredients__list\"><li class=\"recipe-ingredients__list-item\">2 tbsp <a class=\"recipe-ingredients__link\" href=\"/food/vegetable_oil\">vegetable oil</a></li><li class=\"recipe-ingredients__list-item\">½ tsp <a class=\"recipe-ingredients__link\" href=\"/food/cumin\">cumin</a> seeds</li><li class=\"recipe-ingredients__list-item\">½ tsp <a class=\"recipe-ingredients__link\" href=\"/food/fennel_seeds\">fennel seeds</a></li><li class=\"recipe-ingredients__list-item\">2.5cm/1in piece of <a class=\"recipe-ingredients__link\" href=\"/food/cinnamon\">cinnamon</a> stick</li><li class=\"recipe-ingredients__list-item\">2 green <a class=\"recipe-ingredients__link\" href=\"/food/cardamom\">cardamom</a> pods</li><li class=\"recipe-ingredients__list-item\">1 <a class=\"recipe-ingredients__link\" href=\"/food/star_anise\">star anise</a></li><li class=\"recipe-ingredients__list-item\">1 <a class=\"recipe-ingredients__link\" href=\"/food/bay_leaf\">bay leaf</a></li><li class=\"recipe-ingredients__list-item\">1 <a class=\"recipe-ingredients__link\" href=\"/food/onion\">onion</a>, finely chopped</li><li class=\"recipe-ingredients__list-item\">2 tbsp South African <a class=\"recipe-ingredients__link\" href=\"/food/curry_powder\">curry powder</a> </li><li class=\"recipe-ingredients__list-item\">2 <a class=\"recipe-ingredients__link\" href=\"/food/tomato\">tomatoes</a>, chopped</li><li class=\"recipe-ingredients__list-item\">1kg/2lb 2oz boneless <a class=\"recipe-ingredients__link\" href=\"/food/lamb_leg\">leg of lamb</a>, cut into 1.5cm/½in dices</li><li class=\"recipe-ingredients__list-item\">1 tbsp finely chopped fresh <a class=\"recipe-ingredients__link\" href=\"/food/ginger\">ginger</a></li><li class=\"recipe-ingredients__list-item\">1 tbsp finely chopped <a class=\"recipe-ingredients__link\" href=\"/food/garlic\">garlic</a> </li><li class=\"recipe-ingredients__list-item\">10-12 <a class=\"recipe-ingredients__link\" href=\"/food/curry_leaves\">curry leaves</a></li><li class=\"recipe-ingredients__list-item\">2 large <a class=\"recipe-ingredients__link\" href=\"/food/potato\">potatoes</a>, cut in cubes the same size as the meat</li><li class=\"recipe-ingredients__list-item\"><a class=\"recipe-ingredients__link\" href=\"/food/salt\">salt</a></li><li class=\"recipe-ingredients__list-item\">2 tbsp finely chopped <a class=\"recipe-ingredients__link\" href=\"/food/coriander\">coriander</a> leaves</li><li class=\"recipe-ingredients__list-item\">2 tbsp <a class=\"recipe-ingredients__link\" href=\"/food/lime_juice\">lime juice</a></li><li class=\"recipe-ingredients__list-item\">2 loaves of crusty <a class=\"recipe-ingredients__link\" href=\"/food/white_bread\">white bread</a>, unsliced, each cut across in half in the middle and most of the crumbs removed </li><li class=\"recipe-ingredients__list-item\"><a class=\"recipe-ingredients__link\" href=\"/food/coriander_cress\">coriander cress</a> or sprigs, to garnish</li></ul>]\n"
     ]
    },
    {
     "name": "stdout",
     "output_type": "stream",
     "text": [
      "[<ul class=\"recipe-ingredients__list\"><li class=\"recipe-ingredients__list-item\">1 tsp <a class=\"recipe-ingredients__link\" href=\"/food/cloves\">cloves</a></li><li class=\"recipe-ingredients__list-item\">1 tsp <a class=\"recipe-ingredients__link\" href=\"/food/fennel_seeds\">fennel seeds</a> </li><li class=\"recipe-ingredients__list-item\">1 tsp black <a class=\"recipe-ingredients__link\" href=\"/food/mustard_seeds\">mustard seeds</a></li><li class=\"recipe-ingredients__list-item\">4 <a class=\"recipe-ingredients__link\" href=\"/food/cardamom\">cardamom</a> pods, seeds only</li><li class=\"recipe-ingredients__list-item\">½ tsp <a class=\"recipe-ingredients__link\" href=\"/food/black_pepper\">black peppercorns</a> </li><li class=\"recipe-ingredients__list-item\">1 tsp ground <a class=\"recipe-ingredients__link\" href=\"/food/cumin\">cumin</a></li><li class=\"recipe-ingredients__list-item\">1 dried red <a class=\"recipe-ingredients__link\" href=\"/food/chilli\">chilli</a> </li><li class=\"recipe-ingredients__list-item\">1 tsp <a class=\"recipe-ingredients__link\" href=\"/food/coriander_seeds\">coriander seeds</a></li><li class=\"recipe-ingredients__list-item\">1 tbsp ground <a class=\"recipe-ingredients__link\" href=\"/food/turmeric\">turmeric</a></li><li class=\"recipe-ingredients__list-item\">1 <a class=\"recipe-ingredients__link\" href=\"/food/cinnamon\">cinnamon</a> stick</li><li class=\"recipe-ingredients__list-item\">1 tsp <a class=\"recipe-ingredients__link\" href=\"/food/ginger_ground\">ground ginger</a></li><li class=\"recipe-ingredients__list-item\">4 <a class=\"recipe-ingredients__link\" href=\"/food/curry_leaves\">curry leaves</a></li><li class=\"recipe-ingredients__list-item\">handful <a class=\"recipe-ingredients__link\" href=\"/food/dried_apricot\">dried apricots</a></li><li class=\"recipe-ingredients__list-item\">1 tbsp <a class=\"recipe-ingredients__link\" href=\"/food/olive_oil\">olive oil</a></li><li class=\"recipe-ingredients__list-item\">1 <a class=\"recipe-ingredients__link\" href=\"/food/red_onion\">red onion</a>, roughly chopped</li><li class=\"recipe-ingredients__list-item\">1 red <a class=\"recipe-ingredients__link\" href=\"/food/pepper\">pepper</a>, seeds removed, roughly chopped</li><li class=\"recipe-ingredients__list-item\">1 yellow <a class=\"recipe-ingredients__link\" href=\"/food/pepper\">pepper</a>, seeds removed, roughly chopped</li><li class=\"recipe-ingredients__list-item\">2 <a class=\"recipe-ingredients__link\" href=\"/food/garlic\">garlic</a> cloves, finely chopped</li><li class=\"recipe-ingredients__list-item\">1 small <a class=\"recipe-ingredients__link\" href=\"/food/cauliflower\">cauliflower</a>, cut into bite-sized pieces </li><li class=\"recipe-ingredients__list-item\">400g tin <a class=\"recipe-ingredients__link\" href=\"/food/chickpea\">chickpeas</a>, drained and rinsed</li><li class=\"recipe-ingredients__list-item\">handful <a class=\"recipe-ingredients__link\" href=\"/food/green_bean\">green beans</a>, roughly chopped</li><li class=\"recipe-ingredients__list-item\">1 heaped tbsp peach <a class=\"recipe-ingredients__link\" href=\"/food/chutney\">chutney</a></li><li class=\"recipe-ingredients__list-item\">2 tbsp roughly chopped <a class=\"recipe-ingredients__link\" href=\"/food/parsley\">parsley</a></li><li class=\"recipe-ingredients__list-item\">320g/11oz long-grain <a class=\"recipe-ingredients__link\" href=\"/food/rice\">rice</a>, to serve</li><li class=\"recipe-ingredients__list-item\">4 <a class=\"recipe-ingredients__link\" href=\"/food/flatbread\">flatbreads</a>, to serve</li></ul>]\n",
      "[<ul class=\"recipe-ingredients__list\"><li class=\"recipe-ingredients__list-item\">3 tbsp <a class=\"recipe-ingredients__link\" href=\"/food/olive_oil\">olive oil</a></li><li class=\"recipe-ingredients__list-item\">4 large <a class=\"recipe-ingredients__link\" href=\"/food/onion\">onions</a>, sliced</li><li class=\"recipe-ingredients__list-item\">700g/1lb 9oz boneless, skinless <a class=\"recipe-ingredients__link\" href=\"/food/chicken_thigh\">chicken thighs</a> or breasts</li><li class=\"recipe-ingredients__list-item\">20g/¾oz <a class=\"recipe-ingredients__link\" href=\"/food/coriander_fresh\">fresh coriander</a>, finely chopped</li><li class=\"recipe-ingredients__list-item\">3 <a class=\"recipe-ingredients__link\" href=\"/food/garlic\">garlic</a> cloves, crushed</li><li class=\"recipe-ingredients__list-item\">1 tsp ras el hanout</li><li class=\"recipe-ingredients__list-item\">¼ tsp ground <a class=\"recipe-ingredients__link\" href=\"/food/turmeric\">turmeric</a></li><li class=\"recipe-ingredients__list-item\">¼ tsp <a class=\"recipe-ingredients__link\" href=\"/food/ginger_ground\">ground ginger</a></li><li class=\"recipe-ingredients__list-item\">1/8 tsp ground <a class=\"recipe-ingredients__link\" href=\"/food/black_pepper\">black pepper</a></li><li class=\"recipe-ingredients__list-item\">150ml/5fl oz <a class=\"recipe-ingredients__link\" href=\"/food/chicken_stock\">chicken stock</a></li><li class=\"recipe-ingredients__list-item\">2 tbsp runny <a class=\"recipe-ingredients__link\" href=\"/food/honey\">honey</a></li><li class=\"recipe-ingredients__list-item\">2 tsp ground <a class=\"recipe-ingredients__link\" href=\"/food/cinnamon\">cinnamon</a>, plus extra for dusting</li><li class=\"recipe-ingredients__list-item\">100g/3½oz blanched <a class=\"recipe-ingredients__link\" href=\"/food/almond\">almonds</a></li><li class=\"recipe-ingredients__list-item\">100g/3½oz shelled unsalted <a class=\"recipe-ingredients__link\" href=\"/food/pistachio\">pistachio</a> nuts</li><li class=\"recipe-ingredients__list-item\">2 tbsp <a class=\"recipe-ingredients__link\" href=\"/food/caster_sugar\">caster sugar</a></li><li class=\"recipe-ingredients__list-item\">50g/1¾oz unsalted <a class=\"recipe-ingredients__link\" href=\"/food/butter\">butter</a></li><li class=\"recipe-ingredients__list-item\">5 large free-range <a class=\"recipe-ingredients__link\" href=\"/food/egg\">eggs</a> </li><li class=\"recipe-ingredients__list-item\">325g/11½oz <a class=\"recipe-ingredients__link\" href=\"/food/filo_pastry\">filo pastry</a> sheets</li><li class=\"recipe-ingredients__list-item\">3 <a class=\"recipe-ingredients__link\" href=\"/food/lemon\">lemons</a>, finely grated zest only</li><li class=\"recipe-ingredients__list-item\">1 free-range <a class=\"recipe-ingredients__link\" href=\"/food/egg_yolk\">egg yolk</a></li><li class=\"recipe-ingredients__list-item\"><a class=\"recipe-ingredients__link\" href=\"/food/icing_sugar\">icing sugar</a>, for dusting</li><li class=\"recipe-ingredients__list-item\"><a class=\"recipe-ingredients__link\" href=\"/food/salt\">salt</a></li></ul>, <ul class=\"recipe-ingredients__list\"><li class=\"recipe-ingredients__list-item\">3 tbsp <a class=\"recipe-ingredients__link\" href=\"/food/olive_oil\">olive oil</a></li><li class=\"recipe-ingredients__list-item\">1 tbsp dried <a class=\"recipe-ingredients__link\" href=\"/food/thyme\">thyme</a></li><li class=\"recipe-ingredients__list-item\">1 tsp <a class=\"recipe-ingredients__link\" href=\"/food/lemon_juice\">lemon juice</a></li><li class=\"recipe-ingredients__list-item\">5 <a class=\"recipe-ingredients__link\" href=\"/food/orange\">oranges</a>, peeled and segmented</li><li class=\"recipe-ingredients__list-item\">200g/7oz <a class=\"recipe-ingredients__link\" href=\"/food/carrot\">carrots</a>, peeled and cut into thick ribbons</li><li class=\"recipe-ingredients__list-item\">1 large <a class=\"recipe-ingredients__link\" href=\"/food/cucumber\">cucumber</a>, peeled and cut into thick ribbons</li><li class=\"recipe-ingredients__list-item\">150g/5½oz black <a class=\"recipe-ingredients__link\" href=\"/food/olive\">olives</a>, pitted and chopped</li><li class=\"recipe-ingredients__list-item\">85g/3oz <a class=\"recipe-ingredients__link\" href=\"/food/walnut\">walnuts</a>, roughly chopped</li><li class=\"recipe-ingredients__list-item\"><a class=\"recipe-ingredients__link\" href=\"/food/sea_salt\">sea salt</a> flakes</li></ul>]\n",
      "[<ul class=\"recipe-ingredients__list\"><li class=\"recipe-ingredients__list-item\">5 <a class=\"recipe-ingredients__link\" href=\"/food/egg\">eggs</a></li><li class=\"recipe-ingredients__list-item\">5 <a class=\"recipe-ingredients__link\" href=\"/food/egg_yolk\">egg yolks</a></li><li class=\"recipe-ingredients__list-item\">125g/4oz <a class=\"recipe-ingredients__link\" href=\"/food/caster_sugar\">caster sugar</a></li><li class=\"recipe-ingredients__list-item\">250g/9oz dark cooking <a class=\"recipe-ingredients__link\" href=\"/food/chocolate\">chocolate</a>, chopped</li><li class=\"recipe-ingredients__list-item\">250g/9oz unsalted <a class=\"recipe-ingredients__link\" href=\"/food/butter\">butter</a>, cut into cubes</li><li class=\"recipe-ingredients__list-item\">40g/1½oz mealie meal or maize meal</li><li class=\"recipe-ingredients__list-item\">20g/¾oz <a class=\"recipe-ingredients__link\" href=\"/food/flour\">flour</a></li><li class=\"recipe-ingredients__list-item\"><a class=\"recipe-ingredients__link\" href=\"/food/cocoa\">cocoa powder</a>, for dusting</li><li class=\"recipe-ingredients__list-item\">softened <a class=\"recipe-ingredients__link\" href=\"/food/butter\">butter</a>, for greasing</li></ul>]\n"
     ]
    },
    {
     "name": "stdout",
     "output_type": "stream",
     "text": [
      "[<ul class=\"recipe-ingredients__list\"><li class=\"recipe-ingredients__list-item\">12 <a class=\"recipe-ingredients__link\" href=\"/food/peppercorn\">peppercorns</a></li><li class=\"recipe-ingredients__list-item\">2 <a class=\"recipe-ingredients__link\" href=\"/food/cardamom\">cardamom</a> pods</li><li class=\"recipe-ingredients__list-item\">12 <a class=\"recipe-ingredients__link\" href=\"/food/cloves\">cloves</a></li><li class=\"recipe-ingredients__list-item\">2 tbsp <a class=\"recipe-ingredients__link\" href=\"/food/oil\">oil</a> </li><li class=\"recipe-ingredients__list-item\">2 large <a class=\"recipe-ingredients__link\" href=\"/food/onion\">onions</a>, sliced</li><li class=\"recipe-ingredients__list-item\">100g/3½oz piece cooking <a class=\"recipe-ingredients__link\" href=\"/food/chorizo\">chorizo</a></li><li class=\"recipe-ingredients__list-item\">140ml/4½fl oz <a class=\"recipe-ingredients__link\" href=\"/food/chicken_stock\">chicken stock</a> </li><li class=\"recipe-ingredients__list-item\">2 <a class=\"recipe-ingredients__link\" href=\"/food/cinnamon\">cinnamon</a> sticks</li><li class=\"recipe-ingredients__list-item\">2.5cm/1in root <a class=\"recipe-ingredients__link\" href=\"/food/ginger\">ginger</a>, grated</li><li class=\"recipe-ingredients__list-item\">1 green <a class=\"recipe-ingredients__link\" href=\"/food/chilli\">chilli</a>, chopped</li><li class=\"recipe-ingredients__list-item\">2 <a class=\"recipe-ingredients__link\" href=\"/food/goat\">goats</a>' leg steaks</li><li class=\"recipe-ingredients__list-item\">680g/1½ lb <a class=\"recipe-ingredients__link\" href=\"/food/new_potatoes\">new potatoes</a>, halved lengthways</li><li class=\"recipe-ingredients__list-item\">110g/4oz <a class=\"recipe-ingredients__link\" href=\"/food/tomato\">tomatoes</a>, quartered </li><li class=\"recipe-ingredients__list-item\">2 tbsp chopped fresh <a class=\"recipe-ingredients__link\" href=\"/food/parsley\">parsley</a></li><li class=\"recipe-ingredients__list-item\">sea salt and freshly ground <a class=\"recipe-ingredients__link\" href=\"/food/black_pepper\">black pepper</a></li></ul>]\n"
     ]
    },
    {
     "ename": "KeyboardInterrupt",
     "evalue": "",
     "output_type": "error",
     "traceback": [
      "\u001b[0;31m---------------------------------------------------------------------------\u001b[0m",
      "\u001b[0;31mTypeError\u001b[0m                                 Traceback (most recent call last)",
      "\u001b[0;32m/anaconda3/lib/python3.7/site-packages/urllib3/connectionpool.py\u001b[0m in \u001b[0;36m_make_request\u001b[0;34m(self, conn, method, url, timeout, chunked, **httplib_request_kw)\u001b[0m\n\u001b[1;32m    376\u001b[0m             \u001b[0;32mtry\u001b[0m\u001b[0;34m:\u001b[0m  \u001b[0;31m# Python 2.7, use buffering of HTTP responses\u001b[0m\u001b[0;34m\u001b[0m\u001b[0;34m\u001b[0m\u001b[0m\n\u001b[0;32m--> 377\u001b[0;31m                 \u001b[0mhttplib_response\u001b[0m \u001b[0;34m=\u001b[0m \u001b[0mconn\u001b[0m\u001b[0;34m.\u001b[0m\u001b[0mgetresponse\u001b[0m\u001b[0;34m(\u001b[0m\u001b[0mbuffering\u001b[0m\u001b[0;34m=\u001b[0m\u001b[0;32mTrue\u001b[0m\u001b[0;34m)\u001b[0m\u001b[0;34m\u001b[0m\u001b[0;34m\u001b[0m\u001b[0m\n\u001b[0m\u001b[1;32m    378\u001b[0m             \u001b[0;32mexcept\u001b[0m \u001b[0mTypeError\u001b[0m\u001b[0;34m:\u001b[0m  \u001b[0;31m# Python 3\u001b[0m\u001b[0;34m\u001b[0m\u001b[0;34m\u001b[0m\u001b[0m\n",
      "\u001b[0;31mTypeError\u001b[0m: getresponse() got an unexpected keyword argument 'buffering'",
      "\nDuring handling of the above exception, another exception occurred:\n",
      "\u001b[0;31mKeyboardInterrupt\u001b[0m                         Traceback (most recent call last)",
      "\u001b[0;32m<ipython-input-128-0d673d8183e4>\u001b[0m in \u001b[0;36m<module>\u001b[0;34m\u001b[0m\n\u001b[1;32m      4\u001b[0m         \u001b[0mcount\u001b[0m \u001b[0;34m+=\u001b[0m \u001b[0;36m1\u001b[0m\u001b[0;34m\u001b[0m\u001b[0;34m\u001b[0m\u001b[0m\n\u001b[1;32m      5\u001b[0m         \u001b[0mrecipe_url\u001b[0m \u001b[0;34m=\u001b[0m \u001b[0mURL\u001b[0m \u001b[0;34m+\u001b[0m \u001b[0mi\u001b[0m\u001b[0;34m.\u001b[0m\u001b[0mfind\u001b[0m\u001b[0;34m(\u001b[0m\u001b[0;34m'a'\u001b[0m\u001b[0;34m)\u001b[0m\u001b[0;34m[\u001b[0m\u001b[0;34m'href'\u001b[0m\u001b[0;34m]\u001b[0m\u001b[0;34m\u001b[0m\u001b[0;34m\u001b[0m\u001b[0m\n\u001b[0;32m----> 6\u001b[0;31m         \u001b[0mrecipe_page\u001b[0m \u001b[0;34m=\u001b[0m \u001b[0mrequests\u001b[0m\u001b[0;34m.\u001b[0m\u001b[0mget\u001b[0m\u001b[0;34m(\u001b[0m\u001b[0mrecipe_url\u001b[0m\u001b[0;34m)\u001b[0m\u001b[0;34m\u001b[0m\u001b[0;34m\u001b[0m\u001b[0m\n\u001b[0m\u001b[1;32m      7\u001b[0m         \u001b[0mrecipe_soup\u001b[0m \u001b[0;34m=\u001b[0m \u001b[0mBeautifulSoup\u001b[0m\u001b[0;34m(\u001b[0m\u001b[0mrecipe_page\u001b[0m\u001b[0;34m.\u001b[0m\u001b[0mtext\u001b[0m\u001b[0;34m)\u001b[0m\u001b[0;34m\u001b[0m\u001b[0;34m\u001b[0m\u001b[0m\n\u001b[1;32m      8\u001b[0m         \u001b[0mprint\u001b[0m\u001b[0;34m(\u001b[0m\u001b[0mrecipe_soup\u001b[0m\u001b[0;34m.\u001b[0m\u001b[0mfind_all\u001b[0m\u001b[0;34m(\u001b[0m\u001b[0;34m'ul'\u001b[0m\u001b[0;34m,\u001b[0m \u001b[0;34m{\u001b[0m\u001b[0;34m'class'\u001b[0m \u001b[0;34m:\u001b[0m \u001b[0;34m'recipe-ingredients__list'\u001b[0m\u001b[0;34m}\u001b[0m\u001b[0;34m)\u001b[0m\u001b[0;34m)\u001b[0m\u001b[0;34m\u001b[0m\u001b[0;34m\u001b[0m\u001b[0m\n",
      "\u001b[0;32m/anaconda3/lib/python3.7/site-packages/requests/api.py\u001b[0m in \u001b[0;36mget\u001b[0;34m(url, params, **kwargs)\u001b[0m\n\u001b[1;32m     73\u001b[0m \u001b[0;34m\u001b[0m\u001b[0m\n\u001b[1;32m     74\u001b[0m     \u001b[0mkwargs\u001b[0m\u001b[0;34m.\u001b[0m\u001b[0msetdefault\u001b[0m\u001b[0;34m(\u001b[0m\u001b[0;34m'allow_redirects'\u001b[0m\u001b[0;34m,\u001b[0m \u001b[0;32mTrue\u001b[0m\u001b[0;34m)\u001b[0m\u001b[0;34m\u001b[0m\u001b[0;34m\u001b[0m\u001b[0m\n\u001b[0;32m---> 75\u001b[0;31m     \u001b[0;32mreturn\u001b[0m \u001b[0mrequest\u001b[0m\u001b[0;34m(\u001b[0m\u001b[0;34m'get'\u001b[0m\u001b[0;34m,\u001b[0m \u001b[0murl\u001b[0m\u001b[0;34m,\u001b[0m \u001b[0mparams\u001b[0m\u001b[0;34m=\u001b[0m\u001b[0mparams\u001b[0m\u001b[0;34m,\u001b[0m \u001b[0;34m**\u001b[0m\u001b[0mkwargs\u001b[0m\u001b[0;34m)\u001b[0m\u001b[0;34m\u001b[0m\u001b[0;34m\u001b[0m\u001b[0m\n\u001b[0m\u001b[1;32m     76\u001b[0m \u001b[0;34m\u001b[0m\u001b[0m\n\u001b[1;32m     77\u001b[0m \u001b[0;34m\u001b[0m\u001b[0m\n",
      "\u001b[0;32m/anaconda3/lib/python3.7/site-packages/requests/api.py\u001b[0m in \u001b[0;36mrequest\u001b[0;34m(method, url, **kwargs)\u001b[0m\n\u001b[1;32m     58\u001b[0m     \u001b[0;31m# cases, and look like a memory leak in others.\u001b[0m\u001b[0;34m\u001b[0m\u001b[0;34m\u001b[0m\u001b[0;34m\u001b[0m\u001b[0m\n\u001b[1;32m     59\u001b[0m     \u001b[0;32mwith\u001b[0m \u001b[0msessions\u001b[0m\u001b[0;34m.\u001b[0m\u001b[0mSession\u001b[0m\u001b[0;34m(\u001b[0m\u001b[0;34m)\u001b[0m \u001b[0;32mas\u001b[0m \u001b[0msession\u001b[0m\u001b[0;34m:\u001b[0m\u001b[0;34m\u001b[0m\u001b[0;34m\u001b[0m\u001b[0m\n\u001b[0;32m---> 60\u001b[0;31m         \u001b[0;32mreturn\u001b[0m \u001b[0msession\u001b[0m\u001b[0;34m.\u001b[0m\u001b[0mrequest\u001b[0m\u001b[0;34m(\u001b[0m\u001b[0mmethod\u001b[0m\u001b[0;34m=\u001b[0m\u001b[0mmethod\u001b[0m\u001b[0;34m,\u001b[0m \u001b[0murl\u001b[0m\u001b[0;34m=\u001b[0m\u001b[0murl\u001b[0m\u001b[0;34m,\u001b[0m \u001b[0;34m**\u001b[0m\u001b[0mkwargs\u001b[0m\u001b[0;34m)\u001b[0m\u001b[0;34m\u001b[0m\u001b[0;34m\u001b[0m\u001b[0m\n\u001b[0m\u001b[1;32m     61\u001b[0m \u001b[0;34m\u001b[0m\u001b[0m\n\u001b[1;32m     62\u001b[0m \u001b[0;34m\u001b[0m\u001b[0m\n",
      "\u001b[0;32m/anaconda3/lib/python3.7/site-packages/requests/sessions.py\u001b[0m in \u001b[0;36mrequest\u001b[0;34m(self, method, url, params, data, headers, cookies, files, auth, timeout, allow_redirects, proxies, hooks, stream, verify, cert, json)\u001b[0m\n\u001b[1;32m    531\u001b[0m         }\n\u001b[1;32m    532\u001b[0m         \u001b[0msend_kwargs\u001b[0m\u001b[0;34m.\u001b[0m\u001b[0mupdate\u001b[0m\u001b[0;34m(\u001b[0m\u001b[0msettings\u001b[0m\u001b[0;34m)\u001b[0m\u001b[0;34m\u001b[0m\u001b[0;34m\u001b[0m\u001b[0m\n\u001b[0;32m--> 533\u001b[0;31m         \u001b[0mresp\u001b[0m \u001b[0;34m=\u001b[0m \u001b[0mself\u001b[0m\u001b[0;34m.\u001b[0m\u001b[0msend\u001b[0m\u001b[0;34m(\u001b[0m\u001b[0mprep\u001b[0m\u001b[0;34m,\u001b[0m \u001b[0;34m**\u001b[0m\u001b[0msend_kwargs\u001b[0m\u001b[0;34m)\u001b[0m\u001b[0;34m\u001b[0m\u001b[0;34m\u001b[0m\u001b[0m\n\u001b[0m\u001b[1;32m    534\u001b[0m \u001b[0;34m\u001b[0m\u001b[0m\n\u001b[1;32m    535\u001b[0m         \u001b[0;32mreturn\u001b[0m \u001b[0mresp\u001b[0m\u001b[0;34m\u001b[0m\u001b[0;34m\u001b[0m\u001b[0m\n",
      "\u001b[0;32m/anaconda3/lib/python3.7/site-packages/requests/sessions.py\u001b[0m in \u001b[0;36msend\u001b[0;34m(self, request, **kwargs)\u001b[0m\n\u001b[1;32m    644\u001b[0m \u001b[0;34m\u001b[0m\u001b[0m\n\u001b[1;32m    645\u001b[0m         \u001b[0;31m# Send the request\u001b[0m\u001b[0;34m\u001b[0m\u001b[0;34m\u001b[0m\u001b[0;34m\u001b[0m\u001b[0m\n\u001b[0;32m--> 646\u001b[0;31m         \u001b[0mr\u001b[0m \u001b[0;34m=\u001b[0m \u001b[0madapter\u001b[0m\u001b[0;34m.\u001b[0m\u001b[0msend\u001b[0m\u001b[0;34m(\u001b[0m\u001b[0mrequest\u001b[0m\u001b[0;34m,\u001b[0m \u001b[0;34m**\u001b[0m\u001b[0mkwargs\u001b[0m\u001b[0;34m)\u001b[0m\u001b[0;34m\u001b[0m\u001b[0;34m\u001b[0m\u001b[0m\n\u001b[0m\u001b[1;32m    647\u001b[0m \u001b[0;34m\u001b[0m\u001b[0m\n\u001b[1;32m    648\u001b[0m         \u001b[0;31m# Total elapsed time of the request (approximately)\u001b[0m\u001b[0;34m\u001b[0m\u001b[0;34m\u001b[0m\u001b[0;34m\u001b[0m\u001b[0m\n",
      "\u001b[0;32m/anaconda3/lib/python3.7/site-packages/requests/adapters.py\u001b[0m in \u001b[0;36msend\u001b[0;34m(self, request, stream, timeout, verify, cert, proxies)\u001b[0m\n\u001b[1;32m    447\u001b[0m                     \u001b[0mdecode_content\u001b[0m\u001b[0;34m=\u001b[0m\u001b[0;32mFalse\u001b[0m\u001b[0;34m,\u001b[0m\u001b[0;34m\u001b[0m\u001b[0;34m\u001b[0m\u001b[0m\n\u001b[1;32m    448\u001b[0m                     \u001b[0mretries\u001b[0m\u001b[0;34m=\u001b[0m\u001b[0mself\u001b[0m\u001b[0;34m.\u001b[0m\u001b[0mmax_retries\u001b[0m\u001b[0;34m,\u001b[0m\u001b[0;34m\u001b[0m\u001b[0;34m\u001b[0m\u001b[0m\n\u001b[0;32m--> 449\u001b[0;31m                     \u001b[0mtimeout\u001b[0m\u001b[0;34m=\u001b[0m\u001b[0mtimeout\u001b[0m\u001b[0;34m\u001b[0m\u001b[0;34m\u001b[0m\u001b[0m\n\u001b[0m\u001b[1;32m    450\u001b[0m                 )\n\u001b[1;32m    451\u001b[0m \u001b[0;34m\u001b[0m\u001b[0m\n",
      "\u001b[0;32m/anaconda3/lib/python3.7/site-packages/urllib3/connectionpool.py\u001b[0m in \u001b[0;36murlopen\u001b[0;34m(self, method, url, body, headers, retries, redirect, assert_same_host, timeout, pool_timeout, release_conn, chunked, body_pos, **response_kw)\u001b[0m\n\u001b[1;32m    598\u001b[0m                                                   \u001b[0mtimeout\u001b[0m\u001b[0;34m=\u001b[0m\u001b[0mtimeout_obj\u001b[0m\u001b[0;34m,\u001b[0m\u001b[0;34m\u001b[0m\u001b[0;34m\u001b[0m\u001b[0m\n\u001b[1;32m    599\u001b[0m                                                   \u001b[0mbody\u001b[0m\u001b[0;34m=\u001b[0m\u001b[0mbody\u001b[0m\u001b[0;34m,\u001b[0m \u001b[0mheaders\u001b[0m\u001b[0;34m=\u001b[0m\u001b[0mheaders\u001b[0m\u001b[0;34m,\u001b[0m\u001b[0;34m\u001b[0m\u001b[0;34m\u001b[0m\u001b[0m\n\u001b[0;32m--> 600\u001b[0;31m                                                   chunked=chunked)\n\u001b[0m\u001b[1;32m    601\u001b[0m \u001b[0;34m\u001b[0m\u001b[0m\n\u001b[1;32m    602\u001b[0m             \u001b[0;31m# If we're going to release the connection in ``finally:``, then\u001b[0m\u001b[0;34m\u001b[0m\u001b[0;34m\u001b[0m\u001b[0;34m\u001b[0m\u001b[0m\n",
      "\u001b[0;32m/anaconda3/lib/python3.7/site-packages/urllib3/connectionpool.py\u001b[0m in \u001b[0;36m_make_request\u001b[0;34m(self, conn, method, url, timeout, chunked, **httplib_request_kw)\u001b[0m\n\u001b[1;32m    378\u001b[0m             \u001b[0;32mexcept\u001b[0m \u001b[0mTypeError\u001b[0m\u001b[0;34m:\u001b[0m  \u001b[0;31m# Python 3\u001b[0m\u001b[0;34m\u001b[0m\u001b[0;34m\u001b[0m\u001b[0m\n\u001b[1;32m    379\u001b[0m                 \u001b[0;32mtry\u001b[0m\u001b[0;34m:\u001b[0m\u001b[0;34m\u001b[0m\u001b[0;34m\u001b[0m\u001b[0m\n\u001b[0;32m--> 380\u001b[0;31m                     \u001b[0mhttplib_response\u001b[0m \u001b[0;34m=\u001b[0m \u001b[0mconn\u001b[0m\u001b[0;34m.\u001b[0m\u001b[0mgetresponse\u001b[0m\u001b[0;34m(\u001b[0m\u001b[0;34m)\u001b[0m\u001b[0;34m\u001b[0m\u001b[0;34m\u001b[0m\u001b[0m\n\u001b[0m\u001b[1;32m    381\u001b[0m                 \u001b[0;32mexcept\u001b[0m \u001b[0mException\u001b[0m \u001b[0;32mas\u001b[0m \u001b[0me\u001b[0m\u001b[0;34m:\u001b[0m\u001b[0;34m\u001b[0m\u001b[0;34m\u001b[0m\u001b[0m\n\u001b[1;32m    382\u001b[0m                     \u001b[0;31m# Remove the TypeError from the exception chain in Python 3;\u001b[0m\u001b[0;34m\u001b[0m\u001b[0;34m\u001b[0m\u001b[0;34m\u001b[0m\u001b[0m\n",
      "\u001b[0;32m/anaconda3/lib/python3.7/http/client.py\u001b[0m in \u001b[0;36mgetresponse\u001b[0;34m(self)\u001b[0m\n\u001b[1;32m   1319\u001b[0m         \u001b[0;32mtry\u001b[0m\u001b[0;34m:\u001b[0m\u001b[0;34m\u001b[0m\u001b[0;34m\u001b[0m\u001b[0m\n\u001b[1;32m   1320\u001b[0m             \u001b[0;32mtry\u001b[0m\u001b[0;34m:\u001b[0m\u001b[0;34m\u001b[0m\u001b[0;34m\u001b[0m\u001b[0m\n\u001b[0;32m-> 1321\u001b[0;31m                 \u001b[0mresponse\u001b[0m\u001b[0;34m.\u001b[0m\u001b[0mbegin\u001b[0m\u001b[0;34m(\u001b[0m\u001b[0;34m)\u001b[0m\u001b[0;34m\u001b[0m\u001b[0;34m\u001b[0m\u001b[0m\n\u001b[0m\u001b[1;32m   1322\u001b[0m             \u001b[0;32mexcept\u001b[0m \u001b[0mConnectionError\u001b[0m\u001b[0;34m:\u001b[0m\u001b[0;34m\u001b[0m\u001b[0;34m\u001b[0m\u001b[0m\n\u001b[1;32m   1323\u001b[0m                 \u001b[0mself\u001b[0m\u001b[0;34m.\u001b[0m\u001b[0mclose\u001b[0m\u001b[0;34m(\u001b[0m\u001b[0;34m)\u001b[0m\u001b[0;34m\u001b[0m\u001b[0;34m\u001b[0m\u001b[0m\n",
      "\u001b[0;32m/anaconda3/lib/python3.7/http/client.py\u001b[0m in \u001b[0;36mbegin\u001b[0;34m(self)\u001b[0m\n\u001b[1;32m    294\u001b[0m         \u001b[0;31m# read until we get a non-100 response\u001b[0m\u001b[0;34m\u001b[0m\u001b[0;34m\u001b[0m\u001b[0;34m\u001b[0m\u001b[0m\n\u001b[1;32m    295\u001b[0m         \u001b[0;32mwhile\u001b[0m \u001b[0;32mTrue\u001b[0m\u001b[0;34m:\u001b[0m\u001b[0;34m\u001b[0m\u001b[0;34m\u001b[0m\u001b[0m\n\u001b[0;32m--> 296\u001b[0;31m             \u001b[0mversion\u001b[0m\u001b[0;34m,\u001b[0m \u001b[0mstatus\u001b[0m\u001b[0;34m,\u001b[0m \u001b[0mreason\u001b[0m \u001b[0;34m=\u001b[0m \u001b[0mself\u001b[0m\u001b[0;34m.\u001b[0m\u001b[0m_read_status\u001b[0m\u001b[0;34m(\u001b[0m\u001b[0;34m)\u001b[0m\u001b[0;34m\u001b[0m\u001b[0;34m\u001b[0m\u001b[0m\n\u001b[0m\u001b[1;32m    297\u001b[0m             \u001b[0;32mif\u001b[0m \u001b[0mstatus\u001b[0m \u001b[0;34m!=\u001b[0m \u001b[0mCONTINUE\u001b[0m\u001b[0;34m:\u001b[0m\u001b[0;34m\u001b[0m\u001b[0;34m\u001b[0m\u001b[0m\n\u001b[1;32m    298\u001b[0m                 \u001b[0;32mbreak\u001b[0m\u001b[0;34m\u001b[0m\u001b[0;34m\u001b[0m\u001b[0m\n",
      "\u001b[0;32m/anaconda3/lib/python3.7/http/client.py\u001b[0m in \u001b[0;36m_read_status\u001b[0;34m(self)\u001b[0m\n\u001b[1;32m    255\u001b[0m \u001b[0;34m\u001b[0m\u001b[0m\n\u001b[1;32m    256\u001b[0m     \u001b[0;32mdef\u001b[0m \u001b[0m_read_status\u001b[0m\u001b[0;34m(\u001b[0m\u001b[0mself\u001b[0m\u001b[0;34m)\u001b[0m\u001b[0;34m:\u001b[0m\u001b[0;34m\u001b[0m\u001b[0;34m\u001b[0m\u001b[0m\n\u001b[0;32m--> 257\u001b[0;31m         \u001b[0mline\u001b[0m \u001b[0;34m=\u001b[0m \u001b[0mstr\u001b[0m\u001b[0;34m(\u001b[0m\u001b[0mself\u001b[0m\u001b[0;34m.\u001b[0m\u001b[0mfp\u001b[0m\u001b[0;34m.\u001b[0m\u001b[0mreadline\u001b[0m\u001b[0;34m(\u001b[0m\u001b[0m_MAXLINE\u001b[0m \u001b[0;34m+\u001b[0m \u001b[0;36m1\u001b[0m\u001b[0;34m)\u001b[0m\u001b[0;34m,\u001b[0m \u001b[0;34m\"iso-8859-1\"\u001b[0m\u001b[0;34m)\u001b[0m\u001b[0;34m\u001b[0m\u001b[0;34m\u001b[0m\u001b[0m\n\u001b[0m\u001b[1;32m    258\u001b[0m         \u001b[0;32mif\u001b[0m \u001b[0mlen\u001b[0m\u001b[0;34m(\u001b[0m\u001b[0mline\u001b[0m\u001b[0;34m)\u001b[0m \u001b[0;34m>\u001b[0m \u001b[0m_MAXLINE\u001b[0m\u001b[0;34m:\u001b[0m\u001b[0;34m\u001b[0m\u001b[0;34m\u001b[0m\u001b[0m\n\u001b[1;32m    259\u001b[0m             \u001b[0;32mraise\u001b[0m \u001b[0mLineTooLong\u001b[0m\u001b[0;34m(\u001b[0m\u001b[0;34m\"status line\"\u001b[0m\u001b[0;34m)\u001b[0m\u001b[0;34m\u001b[0m\u001b[0;34m\u001b[0m\u001b[0m\n",
      "\u001b[0;32m/anaconda3/lib/python3.7/socket.py\u001b[0m in \u001b[0;36mreadinto\u001b[0;34m(self, b)\u001b[0m\n\u001b[1;32m    587\u001b[0m         \u001b[0;32mwhile\u001b[0m \u001b[0;32mTrue\u001b[0m\u001b[0;34m:\u001b[0m\u001b[0;34m\u001b[0m\u001b[0;34m\u001b[0m\u001b[0m\n\u001b[1;32m    588\u001b[0m             \u001b[0;32mtry\u001b[0m\u001b[0;34m:\u001b[0m\u001b[0;34m\u001b[0m\u001b[0;34m\u001b[0m\u001b[0m\n\u001b[0;32m--> 589\u001b[0;31m                 \u001b[0;32mreturn\u001b[0m \u001b[0mself\u001b[0m\u001b[0;34m.\u001b[0m\u001b[0m_sock\u001b[0m\u001b[0;34m.\u001b[0m\u001b[0mrecv_into\u001b[0m\u001b[0;34m(\u001b[0m\u001b[0mb\u001b[0m\u001b[0;34m)\u001b[0m\u001b[0;34m\u001b[0m\u001b[0;34m\u001b[0m\u001b[0m\n\u001b[0m\u001b[1;32m    590\u001b[0m             \u001b[0;32mexcept\u001b[0m \u001b[0mtimeout\u001b[0m\u001b[0;34m:\u001b[0m\u001b[0;34m\u001b[0m\u001b[0;34m\u001b[0m\u001b[0m\n\u001b[1;32m    591\u001b[0m                 \u001b[0mself\u001b[0m\u001b[0;34m.\u001b[0m\u001b[0m_timeout_occurred\u001b[0m \u001b[0;34m=\u001b[0m \u001b[0;32mTrue\u001b[0m\u001b[0;34m\u001b[0m\u001b[0;34m\u001b[0m\u001b[0m\n",
      "\u001b[0;32m/anaconda3/lib/python3.7/site-packages/urllib3/contrib/pyopenssl.py\u001b[0m in \u001b[0;36mrecv_into\u001b[0;34m(self, *args, **kwargs)\u001b[0m\n\u001b[1;32m    292\u001b[0m     \u001b[0;32mdef\u001b[0m \u001b[0mrecv_into\u001b[0m\u001b[0;34m(\u001b[0m\u001b[0mself\u001b[0m\u001b[0;34m,\u001b[0m \u001b[0;34m*\u001b[0m\u001b[0margs\u001b[0m\u001b[0;34m,\u001b[0m \u001b[0;34m**\u001b[0m\u001b[0mkwargs\u001b[0m\u001b[0;34m)\u001b[0m\u001b[0;34m:\u001b[0m\u001b[0;34m\u001b[0m\u001b[0;34m\u001b[0m\u001b[0m\n\u001b[1;32m    293\u001b[0m         \u001b[0;32mtry\u001b[0m\u001b[0;34m:\u001b[0m\u001b[0;34m\u001b[0m\u001b[0;34m\u001b[0m\u001b[0m\n\u001b[0;32m--> 294\u001b[0;31m             \u001b[0;32mreturn\u001b[0m \u001b[0mself\u001b[0m\u001b[0;34m.\u001b[0m\u001b[0mconnection\u001b[0m\u001b[0;34m.\u001b[0m\u001b[0mrecv_into\u001b[0m\u001b[0;34m(\u001b[0m\u001b[0;34m*\u001b[0m\u001b[0margs\u001b[0m\u001b[0;34m,\u001b[0m \u001b[0;34m**\u001b[0m\u001b[0mkwargs\u001b[0m\u001b[0;34m)\u001b[0m\u001b[0;34m\u001b[0m\u001b[0;34m\u001b[0m\u001b[0m\n\u001b[0m\u001b[1;32m    295\u001b[0m         \u001b[0;32mexcept\u001b[0m \u001b[0mOpenSSL\u001b[0m\u001b[0;34m.\u001b[0m\u001b[0mSSL\u001b[0m\u001b[0;34m.\u001b[0m\u001b[0mSysCallError\u001b[0m \u001b[0;32mas\u001b[0m \u001b[0me\u001b[0m\u001b[0;34m:\u001b[0m\u001b[0;34m\u001b[0m\u001b[0;34m\u001b[0m\u001b[0m\n\u001b[1;32m    296\u001b[0m             \u001b[0;32mif\u001b[0m \u001b[0mself\u001b[0m\u001b[0;34m.\u001b[0m\u001b[0msuppress_ragged_eofs\u001b[0m \u001b[0;32mand\u001b[0m \u001b[0me\u001b[0m\u001b[0;34m.\u001b[0m\u001b[0margs\u001b[0m \u001b[0;34m==\u001b[0m \u001b[0;34m(\u001b[0m\u001b[0;34m-\u001b[0m\u001b[0;36m1\u001b[0m\u001b[0;34m,\u001b[0m \u001b[0;34m'Unexpected EOF'\u001b[0m\u001b[0;34m)\u001b[0m\u001b[0;34m:\u001b[0m\u001b[0;34m\u001b[0m\u001b[0;34m\u001b[0m\u001b[0m\n",
      "\u001b[0;32m/anaconda3/lib/python3.7/site-packages/OpenSSL/SSL.py\u001b[0m in \u001b[0;36mrecv_into\u001b[0;34m(self, buffer, nbytes, flags)\u001b[0m\n\u001b[1;32m   1819\u001b[0m             \u001b[0mresult\u001b[0m \u001b[0;34m=\u001b[0m \u001b[0m_lib\u001b[0m\u001b[0;34m.\u001b[0m\u001b[0mSSL_peek\u001b[0m\u001b[0;34m(\u001b[0m\u001b[0mself\u001b[0m\u001b[0;34m.\u001b[0m\u001b[0m_ssl\u001b[0m\u001b[0;34m,\u001b[0m \u001b[0mbuf\u001b[0m\u001b[0;34m,\u001b[0m \u001b[0mnbytes\u001b[0m\u001b[0;34m)\u001b[0m\u001b[0;34m\u001b[0m\u001b[0;34m\u001b[0m\u001b[0m\n\u001b[1;32m   1820\u001b[0m         \u001b[0;32melse\u001b[0m\u001b[0;34m:\u001b[0m\u001b[0;34m\u001b[0m\u001b[0;34m\u001b[0m\u001b[0m\n\u001b[0;32m-> 1821\u001b[0;31m             \u001b[0mresult\u001b[0m \u001b[0;34m=\u001b[0m \u001b[0m_lib\u001b[0m\u001b[0;34m.\u001b[0m\u001b[0mSSL_read\u001b[0m\u001b[0;34m(\u001b[0m\u001b[0mself\u001b[0m\u001b[0;34m.\u001b[0m\u001b[0m_ssl\u001b[0m\u001b[0;34m,\u001b[0m \u001b[0mbuf\u001b[0m\u001b[0;34m,\u001b[0m \u001b[0mnbytes\u001b[0m\u001b[0;34m)\u001b[0m\u001b[0;34m\u001b[0m\u001b[0;34m\u001b[0m\u001b[0m\n\u001b[0m\u001b[1;32m   1822\u001b[0m         \u001b[0mself\u001b[0m\u001b[0;34m.\u001b[0m\u001b[0m_raise_ssl_error\u001b[0m\u001b[0;34m(\u001b[0m\u001b[0mself\u001b[0m\u001b[0;34m.\u001b[0m\u001b[0m_ssl\u001b[0m\u001b[0;34m,\u001b[0m \u001b[0mresult\u001b[0m\u001b[0;34m)\u001b[0m\u001b[0;34m\u001b[0m\u001b[0;34m\u001b[0m\u001b[0m\n\u001b[1;32m   1823\u001b[0m \u001b[0;34m\u001b[0m\u001b[0m\n",
      "\u001b[0;31mKeyboardInterrupt\u001b[0m: "
     ]
    }
   ],
   "source": [
    "# finds different pages of food\n",
    "if soup.find('ul', {'class' : 'pagination__list'}) == None: #\n",
    "    for i in test:\n",
    "        count += 1\n",
    "        recipe_url = URL + i.find('a')['href']\n",
    "        recipe_page = requests.get(recipe_url)\n",
    "        recipe_soup = BeautifulSoup(recipe_page.text)\n",
    "        print(recipe_soup.find_all('ul', {'class' : 'recipe-ingredients__list'}))\n",
    "    "
   ]
  },
  {
   "cell_type": "code",
   "execution_count": 99,
   "metadata": {},
   "outputs": [
    {
     "data": {
      "text/plain": [
       "True"
      ]
     },
     "execution_count": 99,
     "metadata": {},
     "output_type": "execute_result"
    }
   ],
   "source": [
    "# finds different pages of food\n",
    "soup.find('ul', {'class' : 'pagination__list'}) == None"
   ]
  },
  {
   "cell_type": "code",
   "execution_count": 190,
   "metadata": {
    "scrolled": false
   },
   "outputs": [
    {
     "name": "stdout",
     "output_type": "stream",
     "text": [
      "12 peppercorns\n",
      "2 cardamom pods\n",
      "12 cloves\n",
      "2 tbsp oil \n",
      "2 large onions, sliced\n",
      "100g/3½oz piece cooking chorizo\n",
      "140ml/4½fl oz chicken stock \n",
      "2 cinnamon sticks\n",
      "2.5cm/1in root ginger, grated\n",
      "1 green chilli, chopped\n",
      "2 goats' leg steaks\n",
      "680g/1½ lb new potatoes, halved lengthways\n",
      "110g/4oz tomatoes, quartered \n",
      "2 tbsp chopped fresh parsley\n",
      "sea salt and freshly ground black pepper\n"
     ]
    }
   ],
   "source": [
    "recipe_list = []\n",
    "for i in recipe_soup.find_all('li', {'class' : 'recipe-ingredients__list-item'}):\n",
    "    print(i.text)"
   ]
  },
  {
   "cell_type": "code",
   "execution_count": 196,
   "metadata": {},
   "outputs": [
    {
     "data": {
      "text/plain": [
       "'Goat and tomato bredie'"
      ]
     },
     "execution_count": 196,
     "metadata": {},
     "output_type": "execute_result"
    }
   ],
   "source": [
    "recipe_soup.find('h1').text"
   ]
  },
  {
   "cell_type": "code",
   "execution_count": 179,
   "metadata": {},
   "outputs": [],
   "source": [
    "recipe_list = [i.text for i in recipe_soup.find_all('li', {'class' : 'recipe-ingredients__list-item'})]"
   ]
  },
  {
   "cell_type": "code",
   "execution_count": 210,
   "metadata": {},
   "outputs": [],
   "source": [
    "mapping_dict = {'ingredients' : []}\n",
    "mapping_dict['cuisine'] = 'African'\n",
    "mapping_dict['recipe'] = recipe_soup.find('h1').text\n",
    "mapping_dict['ingredients'] = [i.text for i in recipe_soup.find_all('li', {'class' : 'recipe-ingredients__list-item'})]"
   ]
  },
  {
   "cell_type": "code",
   "execution_count": 211,
   "metadata": {},
   "outputs": [
    {
     "data": {
      "text/plain": [
       "{'ingredients': ['12 peppercorns',\n",
       "  '2 cardamom pods',\n",
       "  '12 cloves',\n",
       "  '2 tbsp oil ',\n",
       "  '2 large onions, sliced',\n",
       "  '100g/3½oz piece cooking chorizo',\n",
       "  '140ml/4½fl oz chicken stock ',\n",
       "  '2 cinnamon sticks',\n",
       "  '2.5cm/1in root ginger, grated',\n",
       "  '1 green chilli, chopped',\n",
       "  \"2 goats' leg steaks\",\n",
       "  '680g/1½ lb new potatoes, halved lengthways',\n",
       "  '110g/4oz tomatoes, quartered ',\n",
       "  '2 tbsp chopped fresh parsley',\n",
       "  'sea salt and freshly ground black pepper'],\n",
       " 'cuisine': 'African',\n",
       " 'recipe': 'Goat and tomato bredie'}"
      ]
     },
     "execution_count": 211,
     "metadata": {},
     "output_type": "execute_result"
    }
   ],
   "source": [
    "mapping_dict"
   ]
  },
  {
   "cell_type": "code",
   "execution_count": 212,
   "metadata": {},
   "outputs": [],
   "source": [
    "df = pd.DataFrame()"
   ]
  },
  {
   "cell_type": "code",
   "execution_count": 213,
   "metadata": {},
   "outputs": [
    {
     "data": {
      "text/html": [
       "<div>\n",
       "<style scoped>\n",
       "    .dataframe tbody tr th:only-of-type {\n",
       "        vertical-align: middle;\n",
       "    }\n",
       "\n",
       "    .dataframe tbody tr th {\n",
       "        vertical-align: top;\n",
       "    }\n",
       "\n",
       "    .dataframe thead th {\n",
       "        text-align: right;\n",
       "    }\n",
       "</style>\n",
       "<table border=\"1\" class=\"dataframe\">\n",
       "  <thead>\n",
       "    <tr style=\"text-align: right;\">\n",
       "      <th></th>\n",
       "      <th>cuisine</th>\n",
       "      <th>ingredients</th>\n",
       "      <th>recipe</th>\n",
       "    </tr>\n",
       "  </thead>\n",
       "  <tbody>\n",
       "    <tr>\n",
       "      <th>0</th>\n",
       "      <td>African</td>\n",
       "      <td>[12 peppercorns, 2 cardamom pods, 12 cloves, 2...</td>\n",
       "      <td>Goat and tomato bredie</td>\n",
       "    </tr>\n",
       "  </tbody>\n",
       "</table>\n",
       "</div>"
      ],
      "text/plain": [
       "   cuisine                                        ingredients  \\\n",
       "0  African  [12 peppercorns, 2 cardamom pods, 12 cloves, 2...   \n",
       "\n",
       "                   recipe  \n",
       "0  Goat and tomato bredie  "
      ]
     },
     "execution_count": 213,
     "metadata": {},
     "output_type": "execute_result"
    }
   ],
   "source": [
    "df.append(mapping_dict, ignore_index=True)"
   ]
  },
  {
   "cell_type": "code",
   "execution_count": 188,
   "metadata": {},
   "outputs": [
    {
     "name": "stderr",
     "output_type": "stream",
     "text": [
      "/anaconda3/lib/python3.7/site-packages/ipykernel_launcher.py:1: FutureWarning: set_value is deprecated and will be removed in a future release. Please use .at[] or .iat[] accessors instead\n",
      "  \"\"\"Entry point for launching an IPython kernel.\n"
     ]
    },
    {
     "ename": "ValueError",
     "evalue": "Must have equal len keys and value when setting with an iterable",
     "output_type": "error",
     "traceback": [
      "\u001b[0;31m---------------------------------------------------------------------------\u001b[0m",
      "\u001b[0;31mKeyError\u001b[0m                                  Traceback (most recent call last)",
      "\u001b[0;32m/anaconda3/lib/python3.7/site-packages/pandas/core/indexes/base.py\u001b[0m in \u001b[0;36mget_loc\u001b[0;34m(self, key, method, tolerance)\u001b[0m\n\u001b[1;32m   2656\u001b[0m             \u001b[0;32mtry\u001b[0m\u001b[0;34m:\u001b[0m\u001b[0;34m\u001b[0m\u001b[0;34m\u001b[0m\u001b[0m\n\u001b[0;32m-> 2657\u001b[0;31m                 \u001b[0;32mreturn\u001b[0m \u001b[0mself\u001b[0m\u001b[0;34m.\u001b[0m\u001b[0m_engine\u001b[0m\u001b[0;34m.\u001b[0m\u001b[0mget_loc\u001b[0m\u001b[0;34m(\u001b[0m\u001b[0mkey\u001b[0m\u001b[0;34m)\u001b[0m\u001b[0;34m\u001b[0m\u001b[0;34m\u001b[0m\u001b[0m\n\u001b[0m\u001b[1;32m   2658\u001b[0m             \u001b[0;32mexcept\u001b[0m \u001b[0mKeyError\u001b[0m\u001b[0;34m:\u001b[0m\u001b[0;34m\u001b[0m\u001b[0;34m\u001b[0m\u001b[0m\n",
      "\u001b[0;32mpandas/_libs/index.pyx\u001b[0m in \u001b[0;36mpandas._libs.index.IndexEngine.get_loc\u001b[0;34m()\u001b[0m\n",
      "\u001b[0;32mpandas/_libs/index.pyx\u001b[0m in \u001b[0;36mpandas._libs.index.IndexEngine.get_loc\u001b[0;34m()\u001b[0m\n",
      "\u001b[0;32mpandas/_libs/hashtable_class_helper.pxi\u001b[0m in \u001b[0;36mpandas._libs.hashtable.PyObjectHashTable.get_item\u001b[0;34m()\u001b[0m\n",
      "\u001b[0;32mpandas/_libs/hashtable_class_helper.pxi\u001b[0m in \u001b[0;36mpandas._libs.hashtable.PyObjectHashTable.get_item\u001b[0;34m()\u001b[0m\n",
      "\u001b[0;31mKeyError\u001b[0m: 'recipe'",
      "\nDuring handling of the above exception, another exception occurred:\n",
      "\u001b[0;31mKeyError\u001b[0m                                  Traceback (most recent call last)",
      "\u001b[0;32m/anaconda3/lib/python3.7/site-packages/pandas/core/frame.py\u001b[0m in \u001b[0;36m_set_value\u001b[0;34m(self, index, col, value, takeable)\u001b[0m\n\u001b[1;32m   2812\u001b[0m \u001b[0;34m\u001b[0m\u001b[0m\n\u001b[0;32m-> 2813\u001b[0;31m             \u001b[0mseries\u001b[0m \u001b[0;34m=\u001b[0m \u001b[0mself\u001b[0m\u001b[0;34m.\u001b[0m\u001b[0m_get_item_cache\u001b[0m\u001b[0;34m(\u001b[0m\u001b[0mcol\u001b[0m\u001b[0;34m)\u001b[0m\u001b[0;34m\u001b[0m\u001b[0;34m\u001b[0m\u001b[0m\n\u001b[0m\u001b[1;32m   2814\u001b[0m             \u001b[0mengine\u001b[0m \u001b[0;34m=\u001b[0m \u001b[0mself\u001b[0m\u001b[0;34m.\u001b[0m\u001b[0mindex\u001b[0m\u001b[0;34m.\u001b[0m\u001b[0m_engine\u001b[0m\u001b[0;34m\u001b[0m\u001b[0;34m\u001b[0m\u001b[0m\n",
      "\u001b[0;32m/anaconda3/lib/python3.7/site-packages/pandas/core/generic.py\u001b[0m in \u001b[0;36m_get_item_cache\u001b[0;34m(self, item)\u001b[0m\n\u001b[1;32m   3060\u001b[0m         \u001b[0;32mif\u001b[0m \u001b[0mres\u001b[0m \u001b[0;32mis\u001b[0m \u001b[0;32mNone\u001b[0m\u001b[0;34m:\u001b[0m\u001b[0;34m\u001b[0m\u001b[0;34m\u001b[0m\u001b[0m\n\u001b[0;32m-> 3061\u001b[0;31m             \u001b[0mvalues\u001b[0m \u001b[0;34m=\u001b[0m \u001b[0mself\u001b[0m\u001b[0;34m.\u001b[0m\u001b[0m_data\u001b[0m\u001b[0;34m.\u001b[0m\u001b[0mget\u001b[0m\u001b[0;34m(\u001b[0m\u001b[0mitem\u001b[0m\u001b[0;34m)\u001b[0m\u001b[0;34m\u001b[0m\u001b[0;34m\u001b[0m\u001b[0m\n\u001b[0m\u001b[1;32m   3062\u001b[0m             \u001b[0mres\u001b[0m \u001b[0;34m=\u001b[0m \u001b[0mself\u001b[0m\u001b[0;34m.\u001b[0m\u001b[0m_box_item_values\u001b[0m\u001b[0;34m(\u001b[0m\u001b[0mitem\u001b[0m\u001b[0;34m,\u001b[0m \u001b[0mvalues\u001b[0m\u001b[0;34m)\u001b[0m\u001b[0;34m\u001b[0m\u001b[0;34m\u001b[0m\u001b[0m\n",
      "\u001b[0;32m/anaconda3/lib/python3.7/site-packages/pandas/core/internals/managers.py\u001b[0m in \u001b[0;36mget\u001b[0;34m(self, item, fastpath)\u001b[0m\n\u001b[1;32m    940\u001b[0m             \u001b[0;32mif\u001b[0m \u001b[0;32mnot\u001b[0m \u001b[0misna\u001b[0m\u001b[0;34m(\u001b[0m\u001b[0mitem\u001b[0m\u001b[0;34m)\u001b[0m\u001b[0;34m:\u001b[0m\u001b[0;34m\u001b[0m\u001b[0;34m\u001b[0m\u001b[0m\n\u001b[0;32m--> 941\u001b[0;31m                 \u001b[0mloc\u001b[0m \u001b[0;34m=\u001b[0m \u001b[0mself\u001b[0m\u001b[0;34m.\u001b[0m\u001b[0mitems\u001b[0m\u001b[0;34m.\u001b[0m\u001b[0mget_loc\u001b[0m\u001b[0;34m(\u001b[0m\u001b[0mitem\u001b[0m\u001b[0;34m)\u001b[0m\u001b[0;34m\u001b[0m\u001b[0;34m\u001b[0m\u001b[0m\n\u001b[0m\u001b[1;32m    942\u001b[0m             \u001b[0;32melse\u001b[0m\u001b[0;34m:\u001b[0m\u001b[0;34m\u001b[0m\u001b[0;34m\u001b[0m\u001b[0m\n",
      "\u001b[0;32m/anaconda3/lib/python3.7/site-packages/pandas/core/indexes/base.py\u001b[0m in \u001b[0;36mget_loc\u001b[0;34m(self, key, method, tolerance)\u001b[0m\n\u001b[1;32m   2658\u001b[0m             \u001b[0;32mexcept\u001b[0m \u001b[0mKeyError\u001b[0m\u001b[0;34m:\u001b[0m\u001b[0;34m\u001b[0m\u001b[0;34m\u001b[0m\u001b[0m\n\u001b[0;32m-> 2659\u001b[0;31m                 \u001b[0;32mreturn\u001b[0m \u001b[0mself\u001b[0m\u001b[0;34m.\u001b[0m\u001b[0m_engine\u001b[0m\u001b[0;34m.\u001b[0m\u001b[0mget_loc\u001b[0m\u001b[0;34m(\u001b[0m\u001b[0mself\u001b[0m\u001b[0;34m.\u001b[0m\u001b[0m_maybe_cast_indexer\u001b[0m\u001b[0;34m(\u001b[0m\u001b[0mkey\u001b[0m\u001b[0;34m)\u001b[0m\u001b[0;34m)\u001b[0m\u001b[0;34m\u001b[0m\u001b[0;34m\u001b[0m\u001b[0m\n\u001b[0m\u001b[1;32m   2660\u001b[0m         \u001b[0mindexer\u001b[0m \u001b[0;34m=\u001b[0m \u001b[0mself\u001b[0m\u001b[0;34m.\u001b[0m\u001b[0mget_indexer\u001b[0m\u001b[0;34m(\u001b[0m\u001b[0;34m[\u001b[0m\u001b[0mkey\u001b[0m\u001b[0;34m]\u001b[0m\u001b[0;34m,\u001b[0m \u001b[0mmethod\u001b[0m\u001b[0;34m=\u001b[0m\u001b[0mmethod\u001b[0m\u001b[0;34m,\u001b[0m \u001b[0mtolerance\u001b[0m\u001b[0;34m=\u001b[0m\u001b[0mtolerance\u001b[0m\u001b[0;34m)\u001b[0m\u001b[0;34m\u001b[0m\u001b[0;34m\u001b[0m\u001b[0m\n",
      "\u001b[0;32mpandas/_libs/index.pyx\u001b[0m in \u001b[0;36mpandas._libs.index.IndexEngine.get_loc\u001b[0;34m()\u001b[0m\n",
      "\u001b[0;32mpandas/_libs/index.pyx\u001b[0m in \u001b[0;36mpandas._libs.index.IndexEngine.get_loc\u001b[0;34m()\u001b[0m\n",
      "\u001b[0;32mpandas/_libs/hashtable_class_helper.pxi\u001b[0m in \u001b[0;36mpandas._libs.hashtable.PyObjectHashTable.get_item\u001b[0;34m()\u001b[0m\n",
      "\u001b[0;32mpandas/_libs/hashtable_class_helper.pxi\u001b[0m in \u001b[0;36mpandas._libs.hashtable.PyObjectHashTable.get_item\u001b[0;34m()\u001b[0m\n",
      "\u001b[0;31mKeyError\u001b[0m: 'recipe'",
      "\nDuring handling of the above exception, another exception occurred:\n",
      "\u001b[0;31mValueError\u001b[0m                                Traceback (most recent call last)",
      "\u001b[0;32m<ipython-input-188-701b9617ed01>\u001b[0m in \u001b[0;36m<module>\u001b[0;34m\u001b[0m\n\u001b[0;32m----> 1\u001b[0;31m \u001b[0mdf\u001b[0m\u001b[0;34m.\u001b[0m\u001b[0mset_value\u001b[0m\u001b[0;34m(\u001b[0m\u001b[0;36m1\u001b[0m\u001b[0;34m,\u001b[0m \u001b[0;34m'recipe'\u001b[0m\u001b[0;34m,\u001b[0m \u001b[0mrecipe_list\u001b[0m\u001b[0;34m)\u001b[0m\u001b[0;34m\u001b[0m\u001b[0;34m\u001b[0m\u001b[0m\n\u001b[0m",
      "\u001b[0;32m/anaconda3/lib/python3.7/site-packages/pandas/core/frame.py\u001b[0m in \u001b[0;36mset_value\u001b[0;34m(self, index, col, value, takeable)\u001b[0m\n\u001b[1;32m   2803\u001b[0m                       \u001b[0;34m\".at[] or .iat[] accessors instead\"\u001b[0m\u001b[0;34m,\u001b[0m \u001b[0mFutureWarning\u001b[0m\u001b[0;34m,\u001b[0m\u001b[0;34m\u001b[0m\u001b[0;34m\u001b[0m\u001b[0m\n\u001b[1;32m   2804\u001b[0m                       stacklevel=2)\n\u001b[0;32m-> 2805\u001b[0;31m         \u001b[0;32mreturn\u001b[0m \u001b[0mself\u001b[0m\u001b[0;34m.\u001b[0m\u001b[0m_set_value\u001b[0m\u001b[0;34m(\u001b[0m\u001b[0mindex\u001b[0m\u001b[0;34m,\u001b[0m \u001b[0mcol\u001b[0m\u001b[0;34m,\u001b[0m \u001b[0mvalue\u001b[0m\u001b[0;34m,\u001b[0m \u001b[0mtakeable\u001b[0m\u001b[0;34m=\u001b[0m\u001b[0mtakeable\u001b[0m\u001b[0;34m)\u001b[0m\u001b[0;34m\u001b[0m\u001b[0;34m\u001b[0m\u001b[0m\n\u001b[0m\u001b[1;32m   2806\u001b[0m \u001b[0;34m\u001b[0m\u001b[0m\n\u001b[1;32m   2807\u001b[0m     \u001b[0;32mdef\u001b[0m \u001b[0m_set_value\u001b[0m\u001b[0;34m(\u001b[0m\u001b[0mself\u001b[0m\u001b[0;34m,\u001b[0m \u001b[0mindex\u001b[0m\u001b[0;34m,\u001b[0m \u001b[0mcol\u001b[0m\u001b[0;34m,\u001b[0m \u001b[0mvalue\u001b[0m\u001b[0;34m,\u001b[0m \u001b[0mtakeable\u001b[0m\u001b[0;34m=\u001b[0m\u001b[0;32mFalse\u001b[0m\u001b[0;34m)\u001b[0m\u001b[0;34m:\u001b[0m\u001b[0;34m\u001b[0m\u001b[0;34m\u001b[0m\u001b[0m\n",
      "\u001b[0;32m/anaconda3/lib/python3.7/site-packages/pandas/core/frame.py\u001b[0m in \u001b[0;36m_set_value\u001b[0;34m(self, index, col, value, takeable)\u001b[0m\n\u001b[1;32m   2821\u001b[0m                 \u001b[0mself\u001b[0m\u001b[0;34m.\u001b[0m\u001b[0miloc\u001b[0m\u001b[0;34m[\u001b[0m\u001b[0mindex\u001b[0m\u001b[0;34m,\u001b[0m \u001b[0mcol\u001b[0m\u001b[0;34m]\u001b[0m \u001b[0;34m=\u001b[0m \u001b[0mvalue\u001b[0m\u001b[0;34m\u001b[0m\u001b[0;34m\u001b[0m\u001b[0m\n\u001b[1;32m   2822\u001b[0m             \u001b[0;32melse\u001b[0m\u001b[0;34m:\u001b[0m\u001b[0;34m\u001b[0m\u001b[0;34m\u001b[0m\u001b[0m\n\u001b[0;32m-> 2823\u001b[0;31m                 \u001b[0mself\u001b[0m\u001b[0;34m.\u001b[0m\u001b[0mloc\u001b[0m\u001b[0;34m[\u001b[0m\u001b[0mindex\u001b[0m\u001b[0;34m,\u001b[0m \u001b[0mcol\u001b[0m\u001b[0;34m]\u001b[0m \u001b[0;34m=\u001b[0m \u001b[0mvalue\u001b[0m\u001b[0;34m\u001b[0m\u001b[0;34m\u001b[0m\u001b[0m\n\u001b[0m\u001b[1;32m   2824\u001b[0m             \u001b[0mself\u001b[0m\u001b[0;34m.\u001b[0m\u001b[0m_item_cache\u001b[0m\u001b[0;34m.\u001b[0m\u001b[0mpop\u001b[0m\u001b[0;34m(\u001b[0m\u001b[0mcol\u001b[0m\u001b[0;34m,\u001b[0m \u001b[0;32mNone\u001b[0m\u001b[0;34m)\u001b[0m\u001b[0;34m\u001b[0m\u001b[0;34m\u001b[0m\u001b[0m\n\u001b[1;32m   2825\u001b[0m \u001b[0;34m\u001b[0m\u001b[0m\n",
      "\u001b[0;32m/anaconda3/lib/python3.7/site-packages/pandas/core/indexing.py\u001b[0m in \u001b[0;36m__setitem__\u001b[0;34m(self, key, value)\u001b[0m\n\u001b[1;32m    188\u001b[0m             \u001b[0mkey\u001b[0m \u001b[0;34m=\u001b[0m \u001b[0mcom\u001b[0m\u001b[0;34m.\u001b[0m\u001b[0mapply_if_callable\u001b[0m\u001b[0;34m(\u001b[0m\u001b[0mkey\u001b[0m\u001b[0;34m,\u001b[0m \u001b[0mself\u001b[0m\u001b[0;34m.\u001b[0m\u001b[0mobj\u001b[0m\u001b[0;34m)\u001b[0m\u001b[0;34m\u001b[0m\u001b[0;34m\u001b[0m\u001b[0m\n\u001b[1;32m    189\u001b[0m         \u001b[0mindexer\u001b[0m \u001b[0;34m=\u001b[0m \u001b[0mself\u001b[0m\u001b[0;34m.\u001b[0m\u001b[0m_get_setitem_indexer\u001b[0m\u001b[0;34m(\u001b[0m\u001b[0mkey\u001b[0m\u001b[0;34m)\u001b[0m\u001b[0;34m\u001b[0m\u001b[0;34m\u001b[0m\u001b[0m\n\u001b[0;32m--> 190\u001b[0;31m         \u001b[0mself\u001b[0m\u001b[0;34m.\u001b[0m\u001b[0m_setitem_with_indexer\u001b[0m\u001b[0;34m(\u001b[0m\u001b[0mindexer\u001b[0m\u001b[0;34m,\u001b[0m \u001b[0mvalue\u001b[0m\u001b[0;34m)\u001b[0m\u001b[0;34m\u001b[0m\u001b[0;34m\u001b[0m\u001b[0m\n\u001b[0m\u001b[1;32m    191\u001b[0m \u001b[0;34m\u001b[0m\u001b[0m\n\u001b[1;32m    192\u001b[0m     \u001b[0;32mdef\u001b[0m \u001b[0m_validate_key\u001b[0m\u001b[0;34m(\u001b[0m\u001b[0mself\u001b[0m\u001b[0;34m,\u001b[0m \u001b[0mkey\u001b[0m\u001b[0;34m,\u001b[0m \u001b[0maxis\u001b[0m\u001b[0;34m)\u001b[0m\u001b[0;34m:\u001b[0m\u001b[0;34m\u001b[0m\u001b[0;34m\u001b[0m\u001b[0m\n",
      "\u001b[0;32m/anaconda3/lib/python3.7/site-packages/pandas/core/indexing.py\u001b[0m in \u001b[0;36m_setitem_with_indexer\u001b[0;34m(self, indexer, value)\u001b[0m\n\u001b[1;32m    364\u001b[0m                         new_indexer = convert_from_missing_indexer_tuple(\n\u001b[1;32m    365\u001b[0m                             indexer, self.obj.axes)\n\u001b[0;32m--> 366\u001b[0;31m                         \u001b[0mself\u001b[0m\u001b[0;34m.\u001b[0m\u001b[0m_setitem_with_indexer\u001b[0m\u001b[0;34m(\u001b[0m\u001b[0mnew_indexer\u001b[0m\u001b[0;34m,\u001b[0m \u001b[0mvalue\u001b[0m\u001b[0;34m)\u001b[0m\u001b[0;34m\u001b[0m\u001b[0;34m\u001b[0m\u001b[0m\n\u001b[0m\u001b[1;32m    367\u001b[0m \u001b[0;34m\u001b[0m\u001b[0m\n\u001b[1;32m    368\u001b[0m                         \u001b[0;32mreturn\u001b[0m \u001b[0mself\u001b[0m\u001b[0;34m.\u001b[0m\u001b[0mobj\u001b[0m\u001b[0;34m\u001b[0m\u001b[0;34m\u001b[0m\u001b[0m\n",
      "\u001b[0;32m/anaconda3/lib/python3.7/site-packages/pandas/core/indexing.py\u001b[0m in \u001b[0;36m_setitem_with_indexer\u001b[0;34m(self, indexer, value)\u001b[0m\n\u001b[1;32m    609\u001b[0m \u001b[0;34m\u001b[0m\u001b[0m\n\u001b[1;32m    610\u001b[0m                     \u001b[0;32mif\u001b[0m \u001b[0mlen\u001b[0m\u001b[0;34m(\u001b[0m\u001b[0mlabels\u001b[0m\u001b[0;34m)\u001b[0m \u001b[0;34m!=\u001b[0m \u001b[0mlen\u001b[0m\u001b[0;34m(\u001b[0m\u001b[0mvalue\u001b[0m\u001b[0;34m)\u001b[0m\u001b[0;34m:\u001b[0m\u001b[0;34m\u001b[0m\u001b[0;34m\u001b[0m\u001b[0m\n\u001b[0;32m--> 611\u001b[0;31m                         raise ValueError('Must have equal len keys and value '\n\u001b[0m\u001b[1;32m    612\u001b[0m                                          'when setting with an iterable')\n\u001b[1;32m    613\u001b[0m \u001b[0;34m\u001b[0m\u001b[0m\n",
      "\u001b[0;31mValueError\u001b[0m: Must have equal len keys and value when setting with an iterable"
     ]
    }
   ],
   "source": [
    "df.set_value(1, 'recipe', recipe_list)"
   ]
  },
  {
   "cell_type": "code",
   "execution_count": 169,
   "metadata": {},
   "outputs": [
    {
     "data": {
      "text/html": [
       "<div>\n",
       "<style scoped>\n",
       "    .dataframe tbody tr th:only-of-type {\n",
       "        vertical-align: middle;\n",
       "    }\n",
       "\n",
       "    .dataframe tbody tr th {\n",
       "        vertical-align: top;\n",
       "    }\n",
       "\n",
       "    .dataframe thead th {\n",
       "        text-align: right;\n",
       "    }\n",
       "</style>\n",
       "<table border=\"1\" class=\"dataframe\">\n",
       "  <thead>\n",
       "    <tr style=\"text-align: right;\">\n",
       "      <th></th>\n",
       "    </tr>\n",
       "  </thead>\n",
       "  <tbody>\n",
       "  </tbody>\n",
       "</table>\n",
       "</div>"
      ],
      "text/plain": [
       "Empty DataFrame\n",
       "Columns: []\n",
       "Index: []"
      ]
     },
     "execution_count": 169,
     "metadata": {},
     "output_type": "execute_result"
    }
   ],
   "source": [
    "cuisine"
   ]
  },
  {
   "cell_type": "code",
   "execution_count": null,
   "metadata": {},
   "outputs": [],
   "source": []
  }
 ],
 "metadata": {
  "kernelspec": {
   "display_name": "Python 3",
   "language": "python",
   "name": "python3"
  },
  "language_info": {
   "codemirror_mode": {
    "name": "ipython",
    "version": 3
   },
   "file_extension": ".py",
   "mimetype": "text/x-python",
   "name": "python",
   "nbconvert_exporter": "python",
   "pygments_lexer": "ipython3",
   "version": "3.7.3"
  }
 },
 "nbformat": 4,
 "nbformat_minor": 2
}
